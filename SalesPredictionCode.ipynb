{
 "cells": [
  {
   "cell_type": "markdown",
   "id": "f10a0c71",
   "metadata": {},
   "source": [
    "# MACHINE LEARNING CRASH COURSE\n",
    "## 1: What is Machine Learning?\n",
    "Imagine you were teaching a friend a new game.\n",
    "\n",
    "How would they learn?\n",
    "\n",
    "Could a computer learn in a similar way?\n",
    "\n",
    "That's what machine learning is all about!\n",
    "\n",
    "Ever wondered how Netflix recommends movies you might like?\n",
    "\n",
    "They use machine learning models that analyze your past viewing habits and compare them to other users to predict what you'll enjoy next.\n",
    "\n",
    "Key concepts:\n",
    "Learning from data: Machines learn by analyzing large amounts of data, just like you learn by seeing examples and practicing.\n",
    "\n",
    "Algorithms: These are like recipes that tell the machine how to learn from the data. Different algorithms are good for different tasks.\n",
    "\n",
    "Patterns: Machine learning helps uncover hidden patterns in data, like Netflix finding patterns in your movie choices.\n",
    "\n",
    "Predictions: Once a machine has learned, it can use its knowledge to make predictions about new data, like recommending your next movie.\n",
    "\n",
    "Activity: Let's play a guessing game! I'll show you a sequence of numbers (e.g., 4, 5, 9, 14, 23, ...). Can you guess what the next number might be based on the pattern you see? This is a simple example of how we can learn from data and make predictions.\n",
    "\n",
    "Other applications: predicting a student grade, self-driving cars, spam detection, weather condition, medical diagnosis, etc.\n",
    "\n",
    "2: Data, the Fuel of Machine Learning\n",
    "Where does all this data come from, and what does it look like?\n",
    "\n",
    "It's like the ingredients for a recipe!\n",
    "\n",
    "Imagine trying to predict tomorrow's weather. Meteorologists use vast amounts of data, like temperature, humidity, and wind speed, to train their models.\n",
    "\n",
    "Key concepts:\n",
    "Data types: Data can be numbers (e.g., temperatures), text (e.g., movie reviews), or even images (e.g., pictures of animals).\n",
    "\n",
    "Understanding data: Before using data, we need to clean it up and make sure it's in a format the machine can understand. Imagine using dirty, expired ingredients in your recipe!\n",
    "\n",
    "Preparing data: This might involve organizing data, filling in missing information, and removing errors. It's like prepping your ingredients before cooking.\n",
    "\n",
    "**Activity: Let's explore a real-world dataset together! We can analyze how different credit parameters affect credit score and be able to make a decision if to approve a customer's loan or not.\n",
    "    "
   ]
  },
  {
   "cell_type": "markdown",
   "id": "24ba2d10",
   "metadata": {},
   "source": [
    "#Suppose you want to predict what activity your friend would prefer for the weekend. What information would you gather, and how would you ensure it's useful in planning the weekend?\n",
    "\n",
    "1. Data Collection:\n",
    "Gather data about your friend's past weekend activities.\n",
    "\n",
    "Note preferences mentioned by your friend during conversations about weekend plans.\n",
    "\n",
    "Consider factors such as weather forecasts, upcoming events, and your friend's interests and hobbies.\n",
    "\n",
    "2. Useful Information:\n",
    "Prioritize recent data to reflect current interests and preferences.\n",
    "\n",
    "Take into account any special occasions or events happening in your friend's life that might influence their weekend plans.\n",
    "\n",
    "Look for patterns in past weekend activities, such as outdoor adventures, movie nights, or social gatherings.\n",
    "\n",
    "Consider your friend's mood and energy levels when selecting weekend activities.\n",
    "\n",
    "3. Different Types of Machine Learning\n",
    "Just like we have different tools for different tasks, there are different types of machine learning for different problems. But before we dive into that, let's take a step back and revisit and solidify our understanding of what machine learning actually is.\n",
    "\n",
    "Machine learning, at its core, involves teaching machines to learn from data without being explicitly programmed.\n",
    "\n",
    "Think about braiding hair. When you first learn to braid, it might be challenging to create neat and intricate patterns. You might need guidance from someone more experienced, and you learn by observing their techniques and practicing on different hair types. As you gain more experience, you develop your own style and become more skilled at braiding. Machine learning follows a similar process. Initially, computers may struggle to recognize patterns in data or make accurate predictions. But with exposure to examples and feedback, they learn to identify patterns and make better predictions, just like mastering the art of braiding hair.\n",
    "\n",
    "Types of Machine Learning:\n",
    "\n",
    "Now, back to the different types! Just like you wouldn't use the same tool to hammer a nail and sew a button, different machine learning algorithms are suited for different tasks. Here are two main categories:\n",
    "\n",
    "1. Supervised Learning: This is like having a teacher guide your learning. You provide the machine with labeled data (e.g., images of cats and dogs labeled as \"cat\" or \"dog\") and the algorithm learns to make predictions on new, unseen data (e.g., classifying a new image as a cat or dog).\n",
    "\n",
    "Regression: As mentioned earlier, this predicts continuous values. Imagine learning to predict the temperature tomorrow based on today's data. It's like aiming for a specific temperature when planning an outing.\n",
    "\n",
    "**Classification: **This predicts categories. Like sorting your laundry, these algorithms learn to categorize data points into predefined groups. For example, classifying emails as spam or not spam.\n",
    "\n",
    "2. Unsupervised Learning: This is like exploring and learning on your own. You give the machine unlabeled data, and it finds patterns and hidden structures within it. Imagine exploring a new city without a map and discovering interesting neighborhoods.\n",
    "\n",
    "Clustering: This groups similar data points together, like clustering customers based on their purchasing habits. It's like organizing your friends based on their hobbies.\n",
    "Dimensionality Reduction: This simplifies complex data by finding the most important information, like summarizing a long book into key points. It's like condensing a large map into a smaller, easier-to-navigate version.\n",
    "4. Building an end-to-end machine learning model\n",
    "case study: Predicting the future sale price of a product\n",
    "Exploratory Data Analysis (EDA)"
   ]
  },
  {
   "cell_type": "code",
   "execution_count": 3,
   "id": "22e08e3e",
   "metadata": {},
   "outputs": [],
   "source": [
    "import pandas as pd\n",
    "import matplotlib.pyplot as plt\n",
    "import numpy as np\n",
    "import seaborn as sns"
   ]
  },
  {
   "cell_type": "code",
   "execution_count": 4,
   "id": "318a657b",
   "metadata": {},
   "outputs": [
    {
     "data": {
      "text/html": [
       "<div>\n",
       "<style scoped>\n",
       "    .dataframe tbody tr th:only-of-type {\n",
       "        vertical-align: middle;\n",
       "    }\n",
       "\n",
       "    .dataframe tbody tr th {\n",
       "        vertical-align: top;\n",
       "    }\n",
       "\n",
       "    .dataframe thead th {\n",
       "        text-align: right;\n",
       "    }\n",
       "</style>\n",
       "<table border=\"1\" class=\"dataframe\">\n",
       "  <thead>\n",
       "    <tr style=\"text-align: right;\">\n",
       "      <th></th>\n",
       "      <th>Unnamed: 0</th>\n",
       "      <th>TV</th>\n",
       "      <th>Radio</th>\n",
       "      <th>Newspaper</th>\n",
       "      <th>Sales</th>\n",
       "    </tr>\n",
       "  </thead>\n",
       "  <tbody>\n",
       "    <tr>\n",
       "      <th>0</th>\n",
       "      <td>1</td>\n",
       "      <td>230.1</td>\n",
       "      <td>37.8</td>\n",
       "      <td>69.2</td>\n",
       "      <td>22.1</td>\n",
       "    </tr>\n",
       "    <tr>\n",
       "      <th>1</th>\n",
       "      <td>2</td>\n",
       "      <td>44.5</td>\n",
       "      <td>39.3</td>\n",
       "      <td>45.1</td>\n",
       "      <td>10.4</td>\n",
       "    </tr>\n",
       "    <tr>\n",
       "      <th>2</th>\n",
       "      <td>3</td>\n",
       "      <td>17.2</td>\n",
       "      <td>45.9</td>\n",
       "      <td>69.3</td>\n",
       "      <td>9.3</td>\n",
       "    </tr>\n",
       "    <tr>\n",
       "      <th>3</th>\n",
       "      <td>4</td>\n",
       "      <td>151.5</td>\n",
       "      <td>41.3</td>\n",
       "      <td>58.5</td>\n",
       "      <td>18.5</td>\n",
       "    </tr>\n",
       "    <tr>\n",
       "      <th>4</th>\n",
       "      <td>5</td>\n",
       "      <td>180.8</td>\n",
       "      <td>10.8</td>\n",
       "      <td>58.4</td>\n",
       "      <td>12.9</td>\n",
       "    </tr>\n",
       "  </tbody>\n",
       "</table>\n",
       "</div>"
      ],
      "text/plain": [
       "   Unnamed: 0     TV  Radio  Newspaper  Sales\n",
       "0           1  230.1   37.8       69.2   22.1\n",
       "1           2   44.5   39.3       45.1   10.4\n",
       "2           3   17.2   45.9       69.3    9.3\n",
       "3           4  151.5   41.3       58.5   18.5\n",
       "4           5  180.8   10.8       58.4   12.9"
      ]
     },
     "execution_count": 4,
     "metadata": {},
     "output_type": "execute_result"
    }
   ],
   "source": [
    "df = pd.read_csv('advertising.csv')\n",
    "df.head()"
   ]
  },
  {
   "cell_type": "code",
   "execution_count": 5,
   "id": "a97385a0",
   "metadata": {},
   "outputs": [
    {
     "data": {
      "text/plain": [
       "Unnamed: 0    0\n",
       "TV            0\n",
       "Radio         0\n",
       "Newspaper     0\n",
       "Sales         0\n",
       "dtype: int64"
      ]
     },
     "execution_count": 5,
     "metadata": {},
     "output_type": "execute_result"
    }
   ],
   "source": [
    "df.isnull().sum()"
   ]
  },
  {
   "cell_type": "code",
   "execution_count": 6,
   "id": "cf3a1872",
   "metadata": {},
   "outputs": [
    {
     "data": {
      "text/plain": [
       "Index(['Unnamed: 0', 'TV', 'Radio', 'Newspaper', 'Sales'], dtype='object')"
      ]
     },
     "execution_count": 6,
     "metadata": {},
     "output_type": "execute_result"
    }
   ],
   "source": [
    "df.columns"
   ]
  },
  {
   "cell_type": "code",
   "execution_count": 7,
   "id": "ad0e1a48",
   "metadata": {},
   "outputs": [],
   "source": [
    "df = df[['TV','Radio','Newspaper','Sales']]"
   ]
  },
  {
   "cell_type": "code",
   "execution_count": 8,
   "id": "6b77ab3f",
   "metadata": {},
   "outputs": [
    {
     "data": {
      "text/plain": [
       "Index(['TV', 'Radio', 'Newspaper', 'Sales'], dtype='object')"
      ]
     },
     "execution_count": 8,
     "metadata": {},
     "output_type": "execute_result"
    }
   ],
   "source": [
    "df.columns"
   ]
  },
  {
   "cell_type": "code",
   "execution_count": 9,
   "id": "e8f7aad1",
   "metadata": {},
   "outputs": [
    {
     "data": {
      "image/png": "[encoded data removed]",
      "text/plain": [
       "<Figure size 1200x600 with 3 Axes>"
      ]
     },
     "metadata": {},
     "output_type": "display_data"
    }
   ],
   "source": [
    "# Create scatter plots for each feature against the target variable (Sales)\n",
    "plt.figure(figsize=(12, 6))\n",
    "plt.subplot(1, 3, 1)\n",
    "sns.scatterplot(x='TV', y='Sales', data=df)\n",
    "plt.title('TV vs Sales')\n",
    "\n",
    "plt.subplot(1, 3, 2)\n",
    "sns.scatterplot(x='Radio', y='Sales', data=df)\n",
    "plt.title('Radio vs Sales')\n",
    "\n",
    "plt.subplot(1, 3, 3)\n",
    "sns.scatterplot(x='Newspaper', y='Sales', data=df)\n",
    "plt.title('Newspaper vs Sales')\n",
    "\n",
    "plt.tight_layout()\n",
    "plt.show()"
   ]
  },
  {
   "cell_type": "code",
   "execution_count": 10,
   "id": "fe30d3e2",
   "metadata": {},
   "outputs": [
    {
     "data": {
      "image/png": "[encoded data removed]",
      "text/plain": [
       "<Figure size 800x600 with 2 Axes>"
      ]
     },
     "metadata": {},
     "output_type": "display_data"
    }
   ],
   "source": [
    "# Create a correlation matrix\n",
    "corr_matrix = df.corr()\n",
    "\n",
    "# Plot the correlation matrix as a heatmap\n",
    "plt.figure(figsize=(8, 6))\n",
    "sns.heatmap(corr_matrix, annot=True, cmap='coolwarm', fmt=\".2f\", annot_kws={\"size\": 12})\n",
    "plt.title('Correlation Matrix')\n",
    "plt.show()"
   ]
  },
  {
   "cell_type": "code",
   "execution_count": 11,
   "id": "9283a0bd",
   "metadata": {},
   "outputs": [
    {
     "name": "stdout",
     "output_type": "stream",
     "text": [
      "Sales        1.000000\n",
      "TV           0.782224\n",
      "Radio        0.576223\n",
      "Newspaper    0.228299\n",
      "Name: Sales, dtype: float64\n"
     ]
    }
   ],
   "source": [
    "print(corr_matrix[\"Sales\"].sort_values(ascending=False))\n"
   ]
  },
  {
   "cell_type": "markdown",
   "id": "b616295c-de7d-4160-8d50-d0443be970e1",
   "metadata": {},
   "source": [
    "### Split Dataset"
   ]
  },
  {
   "cell_type": "code",
   "execution_count": 12,
   "id": "03e02e09",
   "metadata": {},
   "outputs": [],
   "source": [
    "from sklearn.model_selection import train_test_split"
   ]
  },
  {
   "cell_type": "code",
   "execution_count": 13,
   "id": "d010450e-60ac-4279-b903-88c755964084",
   "metadata": {},
   "outputs": [],
   "source": [
    "x = np.array(df.iloc[:, :-1])\n",
    "y = np.array(df['Sales'])"
   ]
  },
  {
   "cell_type": "code",
   "execution_count": 14,
   "id": "feb502aa",
   "metadata": {},
   "outputs": [],
   "source": [
    "# Splitting the data into training and testing sets, 80% for training and 20% for testing\n",
    "X_train, X_test, y_train, y_test = train_test_split(x, y, test_size=0.2, random_state=42)"
   ]
  },
  {
   "cell_type": "markdown",
   "id": "b44340b6",
   "metadata": {},
   "source": [
    "### Building the model"
   ]
  },
  {
   "cell_type": "code",
   "execution_count": 15,
   "id": "ddf1319c",
   "metadata": {},
   "outputs": [],
   "source": [
    "#Import the linear Regression Model\n",
    "from sklearn.linear_model import LinearRegression"
   ]
  },
  {
   "cell_type": "code",
   "execution_count": 16,
   "id": "0cb947fc",
   "metadata": {},
   "outputs": [],
   "source": [
    "#Initialize the Linear Regression Model\n",
    "Lin_Regres = LinearRegression()"
   ]
  },
  {
   "cell_type": "code",
   "execution_count": 17,
   "id": "bc00312d",
   "metadata": {},
   "outputs": [
    {
     "data": {
      "text/html": [
       "<style>#sk-container-id-1 {color: black;background-color: white;}#sk-container-id-1 pre{padding: 0;}#sk-container-id-1 div.sk-toggleable {background-color: white;}#sk-container-id-1 label.sk-toggleable__label {cursor: pointer;display: block;width: 100%;margin-bottom: 0;padding: 0.3em;box-sizing: border-box;text-align: center;}#sk-container-id-1 label.sk-toggleable__label-arrow:before {content: \"▸\";float: left;margin-right: 0.25em;color: #696969;}#sk-container-id-1 label.sk-toggleable__label-arrow:hover:before {color: black;}#sk-container-id-1 div.sk-estimator:hover label.sk-toggleable__label-arrow:before {color: black;}#sk-container-id-1 div.sk-toggleable__content {max-height: 0;max-width: 0;overflow: hidden;text-align: left;background-color: #f0f8ff;}#sk-container-id-1 div.sk-toggleable__content pre {margin: 0.2em;color: black;border-radius: 0.25em;background-color: #f0f8ff;}#sk-container-id-1 input.sk-toggleable__control:checked~div.sk-toggleable__content {max-height: 200px;max-width: 100%;overflow: auto;}#sk-container-id-1 input.sk-toggleable__control:checked~label.sk-toggleable__label-arrow:before {content: \"▾\";}#sk-container-id-1 div.sk-estimator input.sk-toggleable__control:checked~label.sk-toggleable__label {background-color: #d4ebff;}#sk-container-id-1 div.sk-label input.sk-toggleable__control:checked~label.sk-toggleable__label {background-color: #d4ebff;}#sk-container-id-1 input.sk-hidden--visually {border: 0;clip: rect(1px 1px 1px 1px);clip: rect(1px, 1px, 1px, 1px);height: 1px;margin: -1px;overflow: hidden;padding: 0;position: absolute;width: 1px;}#sk-container-id-1 div.sk-estimator {font-family: monospace;background-color: #f0f8ff;border: 1px dotted black;border-radius: 0.25em;box-sizing: border-box;margin-bottom: 0.5em;}#sk-container-id-1 div.sk-estimator:hover {background-color: #d4ebff;}#sk-container-id-1 div.sk-parallel-item::after {content: \"\";width: 100%;border-bottom: 1px solid gray;flex-grow: 1;}#sk-container-id-1 div.sk-label:hover label.sk-toggleable__label {background-color: #d4ebff;}#sk-container-id-1 div.sk-serial::before {content: \"\";position: absolute;border-left: 1px solid gray;box-sizing: border-box;top: 0;bottom: 0;left: 50%;z-index: 0;}#sk-container-id-1 div.sk-serial {display: flex;flex-direction: column;align-items: center;background-color: white;padding-right: 0.2em;padding-left: 0.2em;position: relative;}#sk-container-id-1 div.sk-item {position: relative;z-index: 1;}#sk-container-id-1 div.sk-parallel {display: flex;align-items: stretch;justify-content: center;background-color: white;position: relative;}#sk-container-id-1 div.sk-item::before, #sk-container-id-1 div.sk-parallel-item::before {content: \"\";position: absolute;border-left: 1px solid gray;box-sizing: border-box;top: 0;bottom: 0;left: 50%;z-index: -1;}#sk-container-id-1 div.sk-parallel-item {display: flex;flex-direction: column;z-index: 1;position: relative;background-color: white;}#sk-container-id-1 div.sk-parallel-item:first-child::after {align-self: flex-end;width: 50%;}#sk-container-id-1 div.sk-parallel-item:last-child::after {align-self: flex-start;width: 50%;}#sk-container-id-1 div.sk-parallel-item:only-child::after {width: 0;}#sk-container-id-1 div.sk-dashed-wrapped {border: 1px dashed gray;margin: 0 0.4em 0.5em 0.4em;box-sizing: border-box;padding-bottom: 0.4em;background-color: white;}#sk-container-id-1 div.sk-label label {font-family: monospace;font-weight: bold;display: inline-block;line-height: 1.2em;}#sk-container-id-1 div.sk-label-container {text-align: center;}#sk-container-id-1 div.sk-container {/* jupyter's `normalize.less` sets `[hidden] { display: none; }` but bootstrap.min.css set `[hidden] { display: none !important; }` so we also need the `!important` here to be able to override the default hidden behavior on the sphinx rendered scikit-learn.org. See: https://github.com/scikit-learn/scikit-learn/issues/21755 */display: inline-block !important;position: relative;}#sk-container-id-1 div.sk-text-repr-fallback {display: none;}</style><div id=\"sk-container-id-1\" class=\"sk-top-container\"><div class=\"sk-text-repr-fallback\"><pre>LinearRegression()</pre><b>In a Jupyter environment, please rerun this cell to show the HTML representation or trust the notebook. <br />On GitHub, the HTML representation is unable to render, please try loading this page with nbviewer.org.</b></div><div class=\"sk-container\" hidden><div class=\"sk-item\"><div class=\"sk-estimator sk-toggleable\"><input class=\"sk-toggleable__control sk-hidden--visually\" id=\"sk-estimator-id-1\" type=\"checkbox\" checked><label for=\"sk-estimator-id-1\" class=\"sk-toggleable__label sk-toggleable__label-arrow\">LinearRegression</label><div class=\"sk-toggleable__content\"><pre>LinearRegression()</pre></div></div></div></div></div>"
      ],
      "text/plain": [
       "LinearRegression()"
      ]
     },
     "execution_count": 17,
     "metadata": {},
     "output_type": "execute_result"
    }
   ],
   "source": [
    "#Fit the Linear Regression Model to the split dataset\n",
    "Lin_Regres.fit(X_train, y_train)"
   ]
  },
  {
   "cell_type": "code",
   "execution_count": 18,
   "id": "4d00e898",
   "metadata": {},
   "outputs": [],
   "source": [
    "#To import another model called Random Forest Regressor, this will enable us to choose the better model to use for our sales prediction\n",
    "from sklearn.ensemble import RandomForestRegressor"
   ]
  },
  {
   "cell_type": "code",
   "execution_count": 19,
   "id": "9175a908",
   "metadata": {},
   "outputs": [],
   "source": [
    "#To initialize another model called Random Forest Regressor\n",
    "rf_regressor = RandomForestRegressor()"
   ]
  },
  {
   "cell_type": "code",
   "execution_count": 20,
   "id": "e91025b4",
   "metadata": {},
   "outputs": [
    {
     "data": {
      "text/html": [
       "<style>#sk-container-id-2 {color: black;background-color: white;}#sk-container-id-2 pre{padding: 0;}#sk-container-id-2 div.sk-toggleable {background-color: white;}#sk-container-id-2 label.sk-toggleable__label {cursor: pointer;display: block;width: 100%;margin-bottom: 0;padding: 0.3em;box-sizing: border-box;text-align: center;}#sk-container-id-2 label.sk-toggleable__label-arrow:before {content: \"▸\";float: left;margin-right: 0.25em;color: #696969;}#sk-container-id-2 label.sk-toggleable__label-arrow:hover:before {color: black;}#sk-container-id-2 div.sk-estimator:hover label.sk-toggleable__label-arrow:before {color: black;}#sk-container-id-2 div.sk-toggleable__content {max-height: 0;max-width: 0;overflow: hidden;text-align: left;background-color: #f0f8ff;}#sk-container-id-2 div.sk-toggleable__content pre {margin: 0.2em;color: black;border-radius: 0.25em;background-color: #f0f8ff;}#sk-container-id-2 input.sk-toggleable__control:checked~div.sk-toggleable__content {max-height: 200px;max-width: 100%;overflow: auto;}#sk-container-id-2 input.sk-toggleable__control:checked~label.sk-toggleable__label-arrow:before {content: \"▾\";}#sk-container-id-2 div.sk-estimator input.sk-toggleable__control:checked~label.sk-toggleable__label {background-color: #d4ebff;}#sk-container-id-2 div.sk-label input.sk-toggleable__control:checked~label.sk-toggleable__label {background-color: #d4ebff;}#sk-container-id-2 input.sk-hidden--visually {border: 0;clip: rect(1px 1px 1px 1px);clip: rect(1px, 1px, 1px, 1px);height: 1px;margin: -1px;overflow: hidden;padding: 0;position: absolute;width: 1px;}#sk-container-id-2 div.sk-estimator {font-family: monospace;background-color: #f0f8ff;border: 1px dotted black;border-radius: 0.25em;box-sizing: border-box;margin-bottom: 0.5em;}#sk-container-id-2 div.sk-estimator:hover {background-color: #d4ebff;}#sk-container-id-2 div.sk-parallel-item::after {content: \"\";width: 100%;border-bottom: 1px solid gray;flex-grow: 1;}#sk-container-id-2 div.sk-label:hover label.sk-toggleable__label {background-color: #d4ebff;}#sk-container-id-2 div.sk-serial::before {content: \"\";position: absolute;border-left: 1px solid gray;box-sizing: border-box;top: 0;bottom: 0;left: 50%;z-index: 0;}#sk-container-id-2 div.sk-serial {display: flex;flex-direction: column;align-items: center;background-color: white;padding-right: 0.2em;padding-left: 0.2em;position: relative;}#sk-container-id-2 div.sk-item {position: relative;z-index: 1;}#sk-container-id-2 div.sk-parallel {display: flex;align-items: stretch;justify-content: center;background-color: white;position: relative;}#sk-container-id-2 div.sk-item::before, #sk-container-id-2 div.sk-parallel-item::before {content: \"\";position: absolute;border-left: 1px solid gray;box-sizing: border-box;top: 0;bottom: 0;left: 50%;z-index: -1;}#sk-container-id-2 div.sk-parallel-item {display: flex;flex-direction: column;z-index: 1;position: relative;background-color: white;}#sk-container-id-2 div.sk-parallel-item:first-child::after {align-self: flex-end;width: 50%;}#sk-container-id-2 div.sk-parallel-item:last-child::after {align-self: flex-start;width: 50%;}#sk-container-id-2 div.sk-parallel-item:only-child::after {width: 0;}#sk-container-id-2 div.sk-dashed-wrapped {border: 1px dashed gray;margin: 0 0.4em 0.5em 0.4em;box-sizing: border-box;padding-bottom: 0.4em;background-color: white;}#sk-container-id-2 div.sk-label label {font-family: monospace;font-weight: bold;display: inline-block;line-height: 1.2em;}#sk-container-id-2 div.sk-label-container {text-align: center;}#sk-container-id-2 div.sk-container {/* jupyter's `normalize.less` sets `[hidden] { display: none; }` but bootstrap.min.css set `[hidden] { display: none !important; }` so we also need the `!important` here to be able to override the default hidden behavior on the sphinx rendered scikit-learn.org. See: https://github.com/scikit-learn/scikit-learn/issues/21755 */display: inline-block !important;position: relative;}#sk-container-id-2 div.sk-text-repr-fallback {display: none;}</style><div id=\"sk-container-id-2\" class=\"sk-top-container\"><div class=\"sk-text-repr-fallback\"><pre>RandomForestRegressor()</pre><b>In a Jupyter environment, please rerun this cell to show the HTML representation or trust the notebook. <br />On GitHub, the HTML representation is unable to render, please try loading this page with nbviewer.org.</b></div><div class=\"sk-container\" hidden><div class=\"sk-item\"><div class=\"sk-estimator sk-toggleable\"><input class=\"sk-toggleable__control sk-hidden--visually\" id=\"sk-estimator-id-2\" type=\"checkbox\" checked><label for=\"sk-estimator-id-2\" class=\"sk-toggleable__label sk-toggleable__label-arrow\">RandomForestRegressor</label><div class=\"sk-toggleable__content\"><pre>RandomForestRegressor()</pre></div></div></div></div></div>"
      ],
      "text/plain": [
       "RandomForestRegressor()"
      ]
     },
     "execution_count": 20,
     "metadata": {},
     "output_type": "execute_result"
    }
   ],
   "source": [
    "#Fit the Random Forest Regressor Model to the split dataset\n",
    "rf_regressor.fit(X_train, y_train)"
   ]
  },
  {
   "cell_type": "code",
   "execution_count": 21,
   "id": "681dda76",
   "metadata": {},
   "outputs": [
    {
     "name": "stdout",
     "output_type": "stream",
     "text": [
      "0.899438024100912\n"
     ]
    }
   ],
   "source": [
    "#To see the accuracy rate of Linear regression model with the test dataset\n",
    "\n",
    "print(Lin_Regres.score(X_test, y_test))"
   ]
  },
  {
   "cell_type": "code",
   "execution_count": 22,
   "id": "e8eb7a25",
   "metadata": {},
   "outputs": [
    {
     "name": "stdout",
     "output_type": "stream",
     "text": [
      "0.983211711277332\n"
     ]
    }
   ],
   "source": [
    "#To also see the accuracy rate of the Random Forest Regressor Model with the same test dataset\n",
    "print(rf_regressor.score(X_test, y_test))"
   ]
  },
  {
   "cell_type": "markdown",
   "id": "01e837ae",
   "metadata": {},
   "source": [
    "# We can see that the Random Forest Regressor Model performed better than Linear Regression model. So we would prefer to perform our real world predictions with the Random forest Regressor model\n"
   ]
  },
  {
   "cell_type": "code",
   "execution_count": 23,
   "id": "8b11f0f0",
   "metadata": {},
   "outputs": [
    {
     "data": {
      "image/png": "[encoded data removed]",
      "text/plain": [
       "<Figure size 1000x600 with 1 Axes>"
      ]
     },
     "metadata": {},
     "output_type": "display_data"
    }
   ],
   "source": [
    "# Get feature importance from the trained RandomForestRegressor\n",
    "feature_importances = rf_regressor.feature_importances_\n",
    "\n",
    "# Sort feature importance in descending order\n",
    "indices = np.argsort(feature_importances)\n",
    "\n",
    "# Rearrange feature names based on feature importance\n",
    "feature_names = df.columns\n",
    "sorted_feature_names = [feature_names[i] for i in indices]\n",
    "\n",
    "# Plot feature importances horizontally\n",
    "plt.figure(figsize=(10, 6))\n",
    "plt.title(\"Feature Importance - RandomForestRegressor\")\n",
    "plt.barh(range(len(feature_importances)), feature_importances[indices])\n",
    "plt.yticks(range(len(feature_importances)), sorted_feature_names)\n",
    "plt.xlabel(\"Importance\")\n",
    "plt.ylabel(\"Features\")\n",
    "plt.show()"
   ]
  },
  {
   "cell_type": "code",
   "execution_count": 24,
   "id": "67f8f0db",
   "metadata": {},
   "outputs": [
    {
     "name": "stdout",
     "output_type": "stream",
     "text": [
      "[[163.3  31.6  52.9]\n",
      " [195.4  47.7  52.9]\n",
      " [292.9  28.3  43.2]\n",
      " [ 11.7  36.9  45.2]\n",
      " [220.3  49.    3.2]\n",
      " [ 75.1  35.   52.7]\n",
      " [216.8  43.9  27.2]\n",
      " [ 50.   11.6  18.4]\n",
      " [222.4   3.4  13.1]\n",
      " [175.1  22.5  31.5]\n",
      " [ 31.5  24.6   2.2]\n",
      " [ 56.2   5.7  29.7]\n",
      " [234.5   3.4  84.8]\n",
      " [  5.4  29.9   9.4]\n",
      " [139.5   2.1  26.6]\n",
      " [170.2   7.8  35.2]\n",
      " [  7.3  28.1  41.4]\n",
      " [197.6  23.3  14.2]\n",
      " [ 75.3  20.3  32.5]\n",
      " [237.4  27.5  11. ]\n",
      " [229.5  32.3  74.2]\n",
      " [ 67.8  36.6 114. ]\n",
      " [ 38.   40.3  11.9]\n",
      " [250.9  36.5  72.3]\n",
      " [ 69.    9.3   0.9]\n",
      " [ 53.5   2.   21.4]\n",
      " [213.5  43.   33.8]\n",
      " [139.3  14.5  10.2]\n",
      " [ 87.2  11.8  25.9]\n",
      " [  8.4  27.2   2.1]\n",
      " [199.8   2.6  21.2]\n",
      " [ 69.2  20.5  18.3]\n",
      " [198.9  49.4  60. ]\n",
      " [ 16.9  43.7  89.4]\n",
      " [280.7  13.9  37. ]\n",
      " [238.2  34.3   5.3]\n",
      " [ 48.3  47.    8.5]\n",
      " [273.7  28.9  59.7]\n",
      " [117.2  14.7   5.4]\n",
      " [ 27.5   1.6  20.7]]\n"
     ]
    }
   ],
   "source": [
    "print(X_test)"
   ]
  },
  {
   "cell_type": "markdown",
   "id": "8c82c915",
   "metadata": {},
   "source": [
    "# It is time to check the model with regression model's Evaluation Metrics: mean_squared_error, mean_absolute_error, r2_score"
   ]
  },
  {
   "cell_type": "code",
   "execution_count": 25,
   "id": "e2762d2b",
   "metadata": {},
   "outputs": [],
   "source": [
    "#Import the evaluation metrics first\n",
    "from sklearn.metrics import mean_squared_error, mean_absolute_error, r2_score"
   ]
  },
  {
   "cell_type": "code",
   "execution_count": 26,
   "id": "6103e5bf",
   "metadata": {},
   "outputs": [],
   "source": [
    "# Make predictions on the test set\n",
    "y_pred = rf_regressor.predict(X_test)"
   ]
  },
  {
   "cell_type": "code",
   "execution_count": 27,
   "id": "003dc1fe",
   "metadata": {},
   "outputs": [
    {
     "name": "stdout",
     "output_type": "stream",
     "text": [
      "[17.927 21.811 20.821  6.685 23.338 13.552 22.443  9.572 11.859 15.371\n",
      "  7.452  9.134 12.042  5.201 10.536 12.605  6.328 16.327 11.38  19.606\n",
      " 20.018 13.171 10.418 22.011  9.967  8.948 22.224 12.771 10.139  5.181\n",
      " 11.588 10.911 22.317  8.529 15.317 20.242 11.978 20.854 12.466  7.627]\n"
     ]
    }
   ],
   "source": [
    "print(y_pred)"
   ]
  },
  {
   "cell_type": "code",
   "execution_count": 28,
   "id": "f1b69b14",
   "metadata": {},
   "outputs": [
    {
     "name": "stdout",
     "output_type": "stream",
     "text": [
      "Mean Squared Error (MSE): 0.53\n",
      "Mean Absolute Error (MAE): 0.61\n",
      "R-squared (R2): 0.98\n"
     ]
    }
   ],
   "source": [
    "# Compute evaluation metrics\n",
    "mse = mean_squared_error(y_test, y_pred)\n",
    "mae = mean_absolute_error(y_test, y_pred)\n",
    "r2 = r2_score(y_test, y_pred)\n",
    "\n",
    "# Print evaluation metrics\n",
    "print(f\"Mean Squared Error (MSE): {mse:.2f}\")\n",
    "print(f\"Mean Absolute Error (MAE): {mae:.2f}\")\n",
    "print(f\"R-squared (R2): {r2:.2f}\")"
   ]
  },
  {
   "cell_type": "code",
   "execution_count": 29,
   "id": "8b9ac9b6",
   "metadata": {},
   "outputs": [
    {
     "data": {
      "text/plain": [
       "['rf_regressor.joblib']"
      ]
     },
     "execution_count": 29,
     "metadata": {},
     "output_type": "execute_result"
    }
   ],
   "source": [
    "from joblib import dump\n",
    "\n",
    "\n",
    "# Save the trained model to a file\n",
    "model_file = 'rf_regressor.joblib'\n",
    "dump(rf_regressor, model_file)"
   ]
  },
  {
   "cell_type": "markdown",
   "id": "25f2513c",
   "metadata": {},
   "source": [
    "#"
   ]
  }
 ],
 "metadata": {
  "kernelspec": {
   "display_name": "Python 3 (ipykernel)",
   "language": "python",
   "name": "python3"
  },
  "language_info": {
   "codemirror_mode": {
    "name": "ipython",
    "version": 3
   },
   "file_extension": ".py",
   "mimetype": "text/x-python",
   "name": "python",
   "nbconvert_exporter": "python",
   "pygments_lexer": "ipython3",
   "version": "3.11.5"
  }
 },
 "nbformat": 4,
 "nbformat_minor": 5
}
